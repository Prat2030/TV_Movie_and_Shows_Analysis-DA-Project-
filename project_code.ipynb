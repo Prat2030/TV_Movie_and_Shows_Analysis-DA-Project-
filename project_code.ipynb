{
 "cells": [
  {
   "cell_type": "code",
   "execution_count": 1,
   "metadata": {},
   "outputs": [],
   "source": [
    "import pandas as pd"
   ]
  },
  {
   "cell_type": "code",
   "execution_count": 3,
   "metadata": {},
   "outputs": [
    {
     "data": {
      "text/html": [
       "<div>\n",
       "<style scoped>\n",
       "    .dataframe tbody tr th:only-of-type {\n",
       "        vertical-align: middle;\n",
       "    }\n",
       "\n",
       "    .dataframe tbody tr th {\n",
       "        vertical-align: top;\n",
       "    }\n",
       "\n",
       "    .dataframe thead th {\n",
       "        text-align: right;\n",
       "    }\n",
       "</style>\n",
       "<table border=\"1\" class=\"dataframe\">\n",
       "  <thead>\n",
       "    <tr style=\"text-align: right;\">\n",
       "      <th></th>\n",
       "      <th>title</th>\n",
       "      <th>desc</th>\n",
       "      <th>year</th>\n",
       "      <th>genre</th>\n",
       "      <th>certificate</th>\n",
       "      <th>runtime</th>\n",
       "      <th>rating</th>\n",
       "      <th>votes</th>\n",
       "    </tr>\n",
       "  </thead>\n",
       "  <tbody>\n",
       "    <tr>\n",
       "      <th>0</th>\n",
       "      <td>Puss in Boots: The Last Wish</td>\n",
       "      <td>Puss in Boots discovers that his passion for a...</td>\n",
       "      <td>2022</td>\n",
       "      <td>Animation, Adventure, Comedy</td>\n",
       "      <td>U</td>\n",
       "      <td>102 min</td>\n",
       "      <td>7.8</td>\n",
       "      <td>18,226</td>\n",
       "    </tr>\n",
       "    <tr>\n",
       "      <th>1</th>\n",
       "      <td>Strange World</td>\n",
       "      <td>The legendary Clades are a family of explorers...</td>\n",
       "      <td>2022</td>\n",
       "      <td>Animation, Action, Adventure</td>\n",
       "      <td>PG</td>\n",
       "      <td>102 min</td>\n",
       "      <td>5.5</td>\n",
       "      <td>27,296</td>\n",
       "    </tr>\n",
       "    <tr>\n",
       "      <th>2</th>\n",
       "      <td>Guillermo del Toro's Pinocchio</td>\n",
       "      <td>A father's wish magically brings a wooden boy ...</td>\n",
       "      <td>2022</td>\n",
       "      <td>Animation, Drama, Family</td>\n",
       "      <td>PG</td>\n",
       "      <td>117 min</td>\n",
       "      <td>7.7</td>\n",
       "      <td>60,908</td>\n",
       "    </tr>\n",
       "    <tr>\n",
       "      <th>3</th>\n",
       "      <td>Star Wars: The Bad Batch</td>\n",
       "      <td>The 'Bad Batch' of elite and experimental clon...</td>\n",
       "      <td>2021–</td>\n",
       "      <td>Animation, Action, Adventure</td>\n",
       "      <td>PG</td>\n",
       "      <td>NaN</td>\n",
       "      <td>7.8</td>\n",
       "      <td>35,962</td>\n",
       "    </tr>\n",
       "    <tr>\n",
       "      <th>4</th>\n",
       "      <td>Rick and Morty</td>\n",
       "      <td>An animated series that follows the exploits o...</td>\n",
       "      <td>2013–</td>\n",
       "      <td>Animation, Adventure, Comedy</td>\n",
       "      <td>16+</td>\n",
       "      <td>23 min</td>\n",
       "      <td>9.1</td>\n",
       "      <td>527,839</td>\n",
       "    </tr>\n",
       "  </tbody>\n",
       "</table>\n",
       "</div>"
      ],
      "text/plain": [
       "                            title  \\\n",
       "0    Puss in Boots: The Last Wish   \n",
       "1                   Strange World   \n",
       "2  Guillermo del Toro's Pinocchio   \n",
       "3        Star Wars: The Bad Batch   \n",
       "4                  Rick and Morty   \n",
       "\n",
       "                                                desc    year  \\\n",
       "0  Puss in Boots discovers that his passion for a...    2022   \n",
       "1  The legendary Clades are a family of explorers...    2022   \n",
       "2  A father's wish magically brings a wooden boy ...    2022   \n",
       "3  The 'Bad Batch' of elite and experimental clon...  2021–    \n",
       "4  An animated series that follows the exploits o...  2013–    \n",
       "\n",
       "                          genre certificate  runtime  rating    votes  \n",
       "0  Animation, Adventure, Comedy           U  102 min     7.8   18,226  \n",
       "1  Animation, Action, Adventure          PG  102 min     5.5   27,296  \n",
       "2      Animation, Drama, Family          PG  117 min     7.7   60,908  \n",
       "3  Animation, Action, Adventure          PG      NaN     7.8   35,962  \n",
       "4  Animation, Adventure, Comedy         16+   23 min     9.1  527,839  "
      ]
     },
     "execution_count": 3,
     "metadata": {},
     "output_type": "execute_result"
    }
   ],
   "source": [
    "df = pd.read_csv('Data/tv_movie_animation.csv')\n",
    "df.head()"
   ]
  },
  {
   "cell_type": "code",
   "execution_count": null,
   "metadata": {},
   "outputs": [],
   "source": []
  }
 ],
 "metadata": {
  "kernelspec": {
   "display_name": "Python 3",
   "language": "python",
   "name": "python3"
  },
  "language_info": {
   "codemirror_mode": {
    "name": "ipython",
    "version": 3
   },
   "file_extension": ".py",
   "mimetype": "text/x-python",
   "name": "python",
   "nbconvert_exporter": "python",
   "pygments_lexer": "ipython3",
   "version": "3.10.8"
  },
  "orig_nbformat": 4,
  "vscode": {
   "interpreter": {
    "hash": "b0fa6594d8f4cbf19f97940f81e996739fb7646882a419484c72d19e05852a7e"
   }
  }
 },
 "nbformat": 4,
 "nbformat_minor": 2
}
